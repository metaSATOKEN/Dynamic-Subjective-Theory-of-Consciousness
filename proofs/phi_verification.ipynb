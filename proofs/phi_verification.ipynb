{
 "cells": [
  {
   "cell_type": "code",
   "execution_count": null,
   "metadata": {},
   "outputs": [],
   "source": [
    "\"\"\"\n",
    "Objective:\n",
    "Verify the approximation Φ_G ≈ -N log(1 - λ)\n",
    "using λ(t) values from Kuramoto model.\n",
    "\n",
    "Assume:\n",
    "- N = 100\n",
    "- λ ∈ (0, 1)\n",
    "\n",
    "Steps:\n",
    "1. Define Φ_G(λ) = -N * log(1 - λ)\n",
    "2. Plot Φ_G vs λ\n",
    "3. Optional: Overlay simulated λ(t) from kuramoto_simulation.py\n",
    "\"\"\"\n",
    "import numpy as np\n",
    "import matplotlib.pyplot as plt\n",
    "\n",
    "N = 100\n",
    "lambda_vals = np.linspace(0.001, 0.99, 100)\n",
    "phi_vals = -N * np.log(1 - lambda_vals)\n",
    "\n",
    "plt.plot(lambda_vals, phi_vals)\n",
    "plt.xlabel('λ')\n",
    "plt.ylabel('Φ_G')\n",
    "plt.title('Verification of Φ_G ≈ -N log(1 - λ)')\n",
    "plt.grid()\n",
    "plt.show()\n"
   ]
  }
 ],
 "metadata": {
  "kernelspec": {
   "display_name": "Python 3",
   "language": "python",
   "name": "python3"
  },
  "language_info": {
   "codemirror_mode": {
    "name": "ipython",
    "version": 3
   },
   "file_extension": ".py",
   "mimetype": "text/x-python",
   "name": "python",
   "nbconvert_exporter": "python",
   "pygments_lexer": "ipython3",
   "version": "3.12.10"
  }
 },
 "nbformat": 4,
 "nbformat_minor": 5
}
